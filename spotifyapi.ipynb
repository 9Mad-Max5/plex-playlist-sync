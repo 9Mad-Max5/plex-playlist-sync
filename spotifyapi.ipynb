{
 "cells": [
  {
   "cell_type": "code",
   "execution_count": 1,
   "source": [
    "import spotipy\n",
    "from spotipy.oauth2 import SpotifyClientCredentials\n",
    "\n",
    "from helper import *"
   ],
   "outputs": [],
   "metadata": {}
  },
  {
   "cell_type": "code",
   "execution_count": 4,
   "source": [
    "SPOTIPY_CLIENT_ID = \"0d5191aca40a4c5d8d8d994c17fc0802\"\n",
    "SPOTIPY_CLIENT_SECRET = \"0bdfaf1e33ed415296129bde0890b065\"\n",
    "USER_ID = \"pe1myvbjlnx1i5eqw1e8k09h7\"\n",
    "SCOPE = \"user-library-read\""
   ],
   "outputs": [],
   "metadata": {}
  },
  {
   "cell_type": "code",
   "execution_count": 7,
   "source": [
    "auth_manager = SpotifyClientCredentials(\n",
    "    client_id=SPOTIPY_CLIENT_ID, client_secret=SPOTIPY_CLIENT_SECRET)\n",
    "sp = spotipy.Spotify(auth_manager=auth_manager)"
   ],
   "outputs": [],
   "metadata": {}
  },
  {
   "cell_type": "code",
   "execution_count": 8,
   "source": [
    "playlists = get_sp_user_playlists(sp=sp, userId=USER_ID)\n"
   ],
   "outputs": [],
   "metadata": {}
  },
  {
   "cell_type": "code",
   "execution_count": 17,
   "source": [
    "uri1, name1 = playlists[1]"
   ],
   "outputs": [],
   "metadata": {}
  },
  {
   "cell_type": "code",
   "execution_count": 20,
   "source": [
    "results = sp.user_playlist_tracks(USER_ID, uri1)"
   ],
   "outputs": [],
   "metadata": {}
  },
  {
   "cell_type": "code",
   "execution_count": 35,
   "source": [
    "results['items'][0]['track'].keys()"
   ],
   "outputs": [
    {
     "output_type": "execute_result",
     "data": {
      "text/plain": [
       "dict_keys(['album', 'artists', 'available_markets', 'disc_number', 'duration_ms', 'episode', 'explicit', 'external_ids', 'external_urls', 'href', 'id', 'is_local', 'name', 'popularity', 'preview_url', 'track', 'track_number', 'type', 'uri'])"
      ]
     },
     "metadata": {},
     "execution_count": 35
    }
   ],
   "metadata": {}
  },
  {
   "cell_type": "code",
   "execution_count": 40,
   "source": [
    "results['items'][0]['track']['disc_number']"
   ],
   "outputs": [
    {
     "output_type": "execute_result",
     "data": {
      "text/plain": [
       "1"
      ]
     },
     "metadata": {},
     "execution_count": 40
    }
   ],
   "metadata": {}
  },
  {
   "cell_type": "code",
   "execution_count": 60,
   "source": [
    "i = []\n",
    "for item in results['items'][40:60]:\n",
    "    i.append((item['track']['artists'][0]['name'], item['track']['track_number'], item['track']['name']))"
   ],
   "outputs": [],
   "metadata": {}
  },
  {
   "cell_type": "code",
   "execution_count": 61,
   "source": [
    "i"
   ],
   "outputs": [
    {
     "output_type": "execute_result",
     "data": {
      "text/plain": [
       "[('Olivia Rodrigo', 10, 'favorite crime'),\n",
       " ('Olivia Rodrigo', 9, 'jealousy, jealousy'),\n",
       " ('Sebastian Yatra', 1, 'Pareja Del Año'),\n",
       " ('Bad Bunny', 11, 'DÁKITI'),\n",
       " ('TINI', 1, 'Miénteme'),\n",
       " ('Maluma', 1, 'Sobrio'),\n",
       " ('Polo G', 2, 'RAPSTAR'),\n",
       " ('Marc Seguí', 1, 'Tiroteo - Remix'),\n",
       " ('BTS', 8, 'Dynamite'),\n",
       " ('Shouse', 2, 'Love Tonight - Edit')]"
      ]
     },
     "metadata": {},
     "execution_count": 61
    }
   ],
   "metadata": {}
  },
  {
   "cell_type": "code",
   "execution_count": null,
   "source": [
    "results['items'][0]['track']['artists']"
   ],
   "outputs": [],
   "metadata": {}
  }
 ],
 "metadata": {
  "orig_nbformat": 4,
  "language_info": {
   "name": "python",
   "version": "3.9.5",
   "mimetype": "text/x-python",
   "codemirror_mode": {
    "name": "ipython",
    "version": 3
   },
   "pygments_lexer": "ipython3",
   "nbconvert_exporter": "python",
   "file_extension": ".py"
  },
  "kernelspec": {
   "name": "python3",
   "display_name": "Python 3.9.5 64-bit ('venv': venv)"
  },
  "interpreter": {
   "hash": "6a9a1cabcdaf76232e7c5ca3c0eb73cef59572b1a5ef36d1d0c21f63a4cac508"
  }
 },
 "nbformat": 4,
 "nbformat_minor": 2
}